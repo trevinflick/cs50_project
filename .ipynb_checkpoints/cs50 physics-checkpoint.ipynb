{
 "metadata": {
  "name": "",
  "signature": "sha256:b61acaa28d475090ad591706f002f4463a33761e2072bf9971cab1e45330cdce"
 },
 "nbformat": 3,
 "nbformat_minor": 0,
 "worksheets": [
  {
   "cells": [
    {
     "cell_type": "heading",
     "level": 1,
     "metadata": {},
     "source": [
      "Who is hiring Physic's Bachelors?"
     ]
    },
    {
     "cell_type": "markdown",
     "metadata": {},
     "source": [
      "All data is available thanks to the AIP Statistical Research Center and can be found at www.aip.org/statistics."
     ]
    },
    {
     "cell_type": "markdown",
     "metadata": {},
     "source": [
      "Import the necessary libraries."
     ]
    },
    {
     "cell_type": "code",
     "collapsed": false,
     "input": [
      "from bs4 import BeautifulSoup\n",
      "import urllib2\n",
      "import re\n",
      "import json\n",
      "import pandas as pd"
     ],
     "language": "python",
     "metadata": {},
     "outputs": [],
     "prompt_number": 1
    },
    {
     "cell_type": "code",
     "collapsed": false,
     "input": [
      "states = [\n",
      "'alabama',\n",
      "'alaska',\n",
      "'arizona',\n",
      "'arkansas',\n",
      "'california',\n",
      "'colorado',\n",
      "'connecticut',\n",
      "'dc',\n",
      "'delaware',\n",
      "'florida',\n",
      "'georgia',\n",
      "'hawaii',\n",
      "'idaho',\n",
      "'illinois',\n",
      "'indiana',\n",
      "'iowa',\n",
      "'kansas',\n",
      "'kentucky',\n",
      "'louisiana',\n",
      "'maine',\n",
      "'maryland',\n",
      "'massachusetts',\n",
      "'michigan',\n",
      "'minnesota',\n",
      "'mississippi',\n",
      "'missouri',\n",
      "'montana',\n",
      "'nebraska', \n",
      "'nevada',\n",
      "'newhampshire',\n",
      "'newjersey',\n",
      "'newmexico',\n",
      "'newyork',\n",
      "'northcarolina',\n",
      "'northdakota',\n",
      "'ohio',\n",
      "'oklahoma',\n",
      "'oregon',\n",
      "'pennsylvania',\n",
      "'rhodeisland',\n",
      "'southcarolina',\n",
      "'southdakota',\n",
      "'tennessee',\n",
      "'texas',\n",
      "'utah',\n",
      "'vermont',\n",
      "'virginia',\n",
      "'washington',\n",
      "'westvirginia',\n",
      "'wisconsin',\n",
      "'wyoming'\n",
      "]"
     ],
     "language": "python",
     "metadata": {},
     "outputs": [],
     "prompt_number": 2
    },
    {
     "cell_type": "code",
     "collapsed": false,
     "input": [
      "#Employers who recently hired 3 or more physics bachelors\n",
      "pg = urllib2.urlopen('https://www.aip.org/statistics/multiple')\n",
      "multiple_soup = BeautifulSoup(pg)\n",
      "\n",
      "h = multiple_soup.h1\n",
      "li = h.find_all_next(\"li\")"
     ],
     "language": "python",
     "metadata": {},
     "outputs": [],
     "prompt_number": 3
    },
    {
     "cell_type": "code",
     "collapsed": false,
     "input": [
      "multi_comp = [] # Employers who recently hired 3 or more physics bachelors\n",
      "for x in li:\n",
      "    comp = x.text.encode(\"utf-8\")\n",
      "    multi_comp.append(comp)"
     ],
     "language": "python",
     "metadata": {},
     "outputs": [],
     "prompt_number": 4
    },
    {
     "cell_type": "code",
     "collapsed": false,
     "input": [
      "link = 'https://www.aip.org/statistics/'\n",
      "state_link = ''\n",
      "companies = {}\n",
      "for state in states:\n",
      "    # creates link to state page\n",
      "    state_link = link + state \n",
      "    \n",
      "    # opens link and creates soup\n",
      "    page = urllib2.urlopen(state_link)\n",
      "    soup = BeautifulSoup(page) \n",
      "    \n",
      "    # finds all employers and saves it as a list\n",
      "    h1 = soup.h1\n",
      "    list1 = h1.find_all_next(\"li\")\n",
      "    \n",
      "    companies.setdefault(state, [])\n",
      "    \n",
      "    for li in list1:\n",
      "        company = li.text.encode(\"utf-8\")\n",
      "        companies.setdefault(state, []).append(company)"
     ],
     "language": "python",
     "metadata": {},
     "outputs": [],
     "prompt_number": 5
    },
    {
     "cell_type": "markdown",
     "metadata": {},
     "source": [
      "Save data into an external JSON file."
     ]
    },
    {
     "cell_type": "code",
     "collapsed": false,
     "input": [
      "with open('data.txt', 'w') as outfile:\n",
      "     json.dump(companies, outfile, sort_keys = True, indent = 4,\n",
      "ensure_ascii=False)"
     ],
     "language": "python",
     "metadata": {},
     "outputs": [],
     "prompt_number": 6
    },
    {
     "cell_type": "markdown",
     "metadata": {},
     "source": [
      "Find all the states that did not hire a Physics B.S."
     ]
    },
    {
     "cell_type": "code",
     "collapsed": false,
     "input": [
      "for state in states:\n",
      "    if not bool(companies[state]):\n",
      "        print state"
     ],
     "language": "python",
     "metadata": {},
     "outputs": [
      {
       "output_type": "stream",
       "stream": "stdout",
       "text": [
        "delaware\n",
        "mississippi\n",
        "montana\n",
        "nevada\n",
        "northdakota\n",
        "southdakota\n",
        "vermont\n",
        "westvirginia\n"
       ]
      }
     ],
     "prompt_number": 7
    },
    {
     "cell_type": "markdown",
     "metadata": {},
     "source": [
      "Ranks states on the number of employers that hire Physics Bachelor's"
     ]
    },
    {
     "cell_type": "code",
     "collapsed": false,
     "input": [
      "number = []\n",
      "for state in states:\n",
      "    number.append(len(companies[state]))\n",
      "    \n",
      "dict = {}\n",
      "dict = zip(states, number)\n",
      "\n",
      "dict = sorted(dict, key=lambda x: x[1], reverse = True)\n",
      "\n",
      "for state in dict:\n",
      "    if state[1] > 0:\n",
      "        print state[0], state[1]"
     ],
     "language": "python",
     "metadata": {},
     "outputs": [
      {
       "output_type": "stream",
       "stream": "stdout",
       "text": [
        "california 114\n",
        "newyork 71\n",
        "massachusetts 60\n",
        "minnesota 46\n",
        "texas 44\n",
        "maryland 41\n",
        "illinois 38\n",
        "washington 35\n",
        "virginia 34\n",
        "ohio 28\n",
        "pennsylvania 23\n",
        "michigan 22\n",
        "northcarolina 22\n",
        "colorado 21\n",
        "oregon 21\n",
        "dc 19\n",
        "wisconsin 18\n",
        "newjersey 16\n",
        "florida 15\n",
        "utah 15\n",
        "connecticut 14\n",
        "arizona 12\n",
        "georgia 12\n",
        "alabama 11\n",
        "indiana 11\n",
        "kentucky 10\n",
        "louisiana 10\n",
        "tennessee 10\n",
        "southcarolina 9\n",
        "idaho 8\n",
        "kansas 8\n",
        "missouri 8\n",
        "nebraska 8\n",
        "oklahoma 7\n",
        "newhampshire 6\n",
        "arkansas 5\n",
        "hawaii 5\n",
        "iowa 5\n",
        "newmexico 5\n",
        "alaska 3\n",
        "maine 3\n",
        "rhodeisland 3\n",
        "wyoming 3\n"
       ]
      }
     ],
     "prompt_number": 8
    },
    {
     "cell_type": "code",
     "collapsed": false,
     "input": [
      "df = pd.DataFrame()\n",
      "for state in states:\n",
      "    df1 = pd.DataFrame({\"State\": state, \"Companies\": companies[state]})\n",
      "    df = pd.concat([df,df1])\n"
     ],
     "language": "python",
     "metadata": {},
     "outputs": [],
     "prompt_number": 9
    },
    {
     "cell_type": "markdown",
     "metadata": {},
     "source": [
      "Overview of the hiring statisics including the state and company with the most unique hires."
     ]
    },
    {
     "cell_type": "code",
     "collapsed": false,
     "input": [
      "df.describe()"
     ],
     "language": "python",
     "metadata": {},
     "outputs": [
      {
       "html": [
        "<div style=\"max-height:1000px;max-width:1500px;overflow:auto;\">\n",
        "<table border=\"1\" class=\"dataframe\">\n",
        "  <thead>\n",
        "    <tr style=\"text-align: right;\">\n",
        "      <th></th>\n",
        "      <th>Companies</th>\n",
        "      <th>State</th>\n",
        "    </tr>\n",
        "  </thead>\n",
        "  <tbody>\n",
        "    <tr>\n",
        "      <th>count</th>\n",
        "      <td>      879</td>\n",
        "      <td>        879</td>\n",
        "    </tr>\n",
        "    <tr>\n",
        "      <th>unique</th>\n",
        "      <td>      822</td>\n",
        "      <td>         43</td>\n",
        "    </tr>\n",
        "    <tr>\n",
        "      <th>top</th>\n",
        "      <td> Raytheon</td>\n",
        "      <td> california</td>\n",
        "    </tr>\n",
        "    <tr>\n",
        "      <th>freq</th>\n",
        "      <td>        7</td>\n",
        "      <td>        114</td>\n",
        "    </tr>\n",
        "  </tbody>\n",
        "</table>\n",
        "</div>"
       ],
       "metadata": {},
       "output_type": "pyout",
       "prompt_number": 10,
       "text": [
        "       Companies       State\n",
        "count        879         879\n",
        "unique       822          43\n",
        "top     Raytheon  california\n",
        "freq           7         114"
       ]
      }
     ],
     "prompt_number": 10
    },
    {
     "cell_type": "code",
     "collapsed": false,
     "input": [
      "df['freq'] = df.groupby('Companies')['Companies'].transform('count')"
     ],
     "language": "python",
     "metadata": {},
     "outputs": [],
     "prompt_number": 11
    },
    {
     "cell_type": "code",
     "collapsed": false,
     "input": [
      "df1 = df[df['freq'] > 1]\n",
      "df1 = df1.drop('State', 1)\n",
      "df1 = df1.drop_duplicates(subset='Companies')\n",
      "multi_states = df1.sort(['freq'], ascending = False)\n",
      "multi_state = []\n",
      "\n",
      "for comp in multi_states['Companies']:\n",
      "    multi_state.append(comp)"
     ],
     "language": "python",
     "metadata": {},
     "outputs": [],
     "prompt_number": 12
    },
    {
     "cell_type": "markdown",
     "metadata": {},
     "source": [
      "Companies that hired Physics BS graduates in multiple states."
     ]
    },
    {
     "cell_type": "code",
     "collapsed": false,
     "input": [
      "for x in sorted(multi_state):\n",
      "    print x"
     ],
     "language": "python",
     "metadata": {},
     "outputs": [
      {
       "output_type": "stream",
       "stream": "stdout",
       "text": [
        "Accenture\n",
        "Aerotek\n",
        "Amazon.com\n",
        "Bain & Company\n",
        "Boeing\n",
        "Booz Allen Hamilton\n",
        "Cisco Systems\n",
        "Dean & Company\n",
        "Deloitte Consulting\n",
        "Department of Defense\n",
        "EMC\n",
        "Ernst & Young\n",
        "Exelon\n",
        "Facebook\n",
        "General Electric\n",
        "General Motors\n",
        "Google\n",
        "Hewlett-Packard\n",
        "IBM\n",
        "Intel\n",
        "Johnson Controls\n",
        "Leidos\n",
        "Lockheed Martin\n",
        "Microsoft\n",
        "NASA\n",
        "Northrop Grumman\n",
        "Pearl Meyer & Partners\n",
        "Raytheon\n",
        "Schneider Electric\n",
        "The Brattle Group\n",
        "Underwriters Laboratories, LLC\n"
       ]
      }
     ],
     "prompt_number": 13
    },
    {
     "cell_type": "markdown",
     "metadata": {},
     "source": [
      "Companies that hired three or more Physics BS graduates"
     ]
    },
    {
     "cell_type": "code",
     "collapsed": false,
     "input": [
      "for x in sorted(multi_comp):\n",
      "    print x"
     ],
     "language": "python",
     "metadata": {},
     "outputs": [
      {
       "output_type": "stream",
       "stream": "stdout",
       "text": [
        "Accruent\n",
        "Aerotek\n",
        "Amazon.com\n",
        "Bain & Company\n",
        "Bloomberg LP\n",
        "Boeing\n",
        "Booz Allen Hamilton\n",
        "Broad Institute\n",
        "Cerner Corporation\n",
        "Deloitte Consulting\n",
        "Department of Defense\n",
        "EMC Corporation\n",
        "Epic Systems\n",
        "Gemini Observatory\n",
        "General Electric\n",
        "Google\n",
        "Hewlett-Packard\n",
        "IBM\n",
        "Intel\n",
        "InterSystems Corporation\n",
        "Jacobs Engineering Group\n",
        "Johns Hopkins Applied Physics Laboratory\n",
        "Lawrence Berkeley National Lab\n",
        "Lockheed Martin\n",
        "Los Alamos National Laboratory\n",
        "Massachusetts General Hospital\n",
        "Microsoft\n",
        "NASA\n",
        "National Institute of Standards and Technology\n",
        "National Institutes of Health\n",
        "National Instruments\n",
        "Northrop Grumman Corporation\n",
        "Oak Ridge National Lab\n",
        "Oliver Wyman\n",
        "Pacific Northwest Laboratory\n",
        "Raytheon\n",
        "Rockwell Collins\n",
        "Schneider Electric\n",
        "Smithsonian Astrophysical Observatory\n",
        "Space Telescope Science Institute\n",
        "Thor Labs\n"
       ]
      }
     ],
     "prompt_number": 14
    },
    {
     "cell_type": "markdown",
     "metadata": {},
     "source": [
      "Companies that hired in multiple states and more than 3 physics BS grads"
     ]
    },
    {
     "cell_type": "code",
     "collapsed": false,
     "input": [
      "for x in sorted(set(multi_state) & set(multi_comp)):\n",
      "    print x"
     ],
     "language": "python",
     "metadata": {},
     "outputs": [
      {
       "output_type": "stream",
       "stream": "stdout",
       "text": [
        "Aerotek\n",
        "Amazon.com\n",
        "Bain & Company\n",
        "Boeing\n",
        "Booz Allen Hamilton\n",
        "Deloitte Consulting\n",
        "Department of Defense\n",
        "General Electric\n",
        "Google\n",
        "Hewlett-Packard\n",
        "IBM\n",
        "Intel\n",
        "Lockheed Martin\n",
        "Microsoft\n",
        "NASA\n",
        "Raytheon\n",
        "Schneider Electric\n"
       ]
      }
     ],
     "prompt_number": 15
    },
    {
     "cell_type": "code",
     "collapsed": false,
     "input": [
      "links = []\n",
      "for company in companies:\n",
      "    company = re.sub(r'\\W+', '', company)\n",
      "    company.replace(\" \", \"+\")\n",
      "    link = 'http://www.google.com/search?q=' + company + '+jobs&btnI'\n",
      "    links.append(link)\n",
      "    \n",
      "len(links)"
     ],
     "language": "python",
     "metadata": {},
     "outputs": [
      {
       "metadata": {},
       "output_type": "pyout",
       "prompt_number": 16,
       "text": [
        "51"
       ]
      }
     ],
     "prompt_number": 16
    },
    {
     "cell_type": "code",
     "collapsed": false,
     "input": [],
     "language": "python",
     "metadata": {},
     "outputs": []
    }
   ],
   "metadata": {}
  }
 ]
}